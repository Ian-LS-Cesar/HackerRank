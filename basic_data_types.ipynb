{
 "cells": [
  {
   "cell_type": "markdown",
   "metadata": {},
   "source": [
    "# List Comprehensions"
   ]
  },
  {
   "cell_type": "code",
   "execution_count": null,
   "metadata": {},
   "outputs": [],
   "source": [
    "if __name__ == '__main__':\n",
    "    x = int(input())\n",
    "    y = int(input())\n",
    "    z = int(input())\n",
    "    n = int(input())\n",
    "\n",
    "print(list([i, j, k] for i in range (x + 1) for j in range (y + 1) for k in range (z + 1) if i + j + k != n))\n",
    "\n",
    "\n",
    "\n"
   ]
  },
  {
   "cell_type": "markdown",
   "metadata": {},
   "source": [
    "# Nested Lists"
   ]
  },
  {
   "cell_type": "code",
   "execution_count": null,
   "metadata": {},
   "outputs": [],
   "source": [
    "def encontrar_segunda_menor_notas(lista_alunos):\n",
    "\n",
    "    if not lista_alunos:\n",
    "        return []\n",
    "\n",
    "    scores = sorted(set(aluno[1] for aluno in lista_alunos))\n",
    "        \n",
    "    if len(scores) < 2:\n",
    "        return []\n",
    "\n",
    "    segunda_menor_nota = scores[1]\n",
    "    segunda_menor_alunos = [aluno[0] for aluno in lista_alunos if aluno [1] == segunda_menor_nota]\n",
    "    segunda_menor_alunos.sort()\n",
    "\n",
    "    return segunda_menor_alunos\n",
    "\n",
    "if __name__ == '__main__':\n",
    "    lista_alunos = []\n",
    "    \n",
    "    for i in range(int(input())):\n",
    "        name = input()\n",
    "        score = float(input())\n",
    "\n",
    "        lista_alunos.append([name, score])\n",
    "\n",
    "    segunda_menor_alunos = encontrar_segunda_menor_notas(lista_alunos)\n",
    "\n",
    "    for name in segunda_menor_alunos:\n",
    "        print(name)\n",
    "\n",
    "\n",
    "\n",
    "\n",
    "\n"
   ]
  },
  {
   "cell_type": "markdown",
   "metadata": {},
   "source": [
    "# Finding the percentage"
   ]
  },
  {
   "cell_type": "code",
   "execution_count": null,
   "metadata": {},
   "outputs": [],
   "source": [
    "def imprimir_media(student_marks, query_name):\n",
    "\n",
    "    for estudante in student_marks:\n",
    "        if estudante == query_name:\n",
    "            average = (student_marks[query_name][0] + student_marks[query_name][1] + student_marks[query_name][2])/3\n",
    "\n",
    "    return average\n",
    "\n",
    "if __name__ == '__main__':\n",
    "    n = int(input())\n",
    "\n",
    "    student_marks = {}\n",
    "    for _ in range(n):\n",
    "        name, *line = input().split()\n",
    "        scores = list(map(float, line))\n",
    "        student_marks[name] = scores\n",
    "    query_name = input()\n",
    "\n",
    "    media = imprimir_media(student_marks, query_name)\n",
    "    \n",
    "    print(f'{media:.2f}')"
   ]
  },
  {
   "cell_type": "markdown",
   "metadata": {},
   "source": [
    "# Lists"
   ]
  },
  {
   "cell_type": "code",
   "execution_count": null,
   "metadata": {},
   "outputs": [],
   "source": [
    "def comandos(N):\n",
    "    lista = []\n",
    "\n",
    "    for i in range(N):\n",
    "        \n",
    "        comando = input().split()\n",
    "\n",
    "        if comando[0] == \"insert\":\n",
    "            lista.insert(int(comando[1]), int(comando[2]))\n",
    "        \n",
    "        elif comando[0] == \"print\":\n",
    "            print(lista)\n",
    "        \n",
    "        elif comando[0] == \"remove\":\n",
    "            lista.remove(int(comando[1]))\n",
    "        \n",
    "        elif comando[0] == \"append\":\n",
    "            lista.append(int(comando[1]))\n",
    "\n",
    "        elif comando[0] == \"sort\":\n",
    "            lista = sorted(lista)\n",
    "\n",
    "        elif comando[0] == \"pop\":\n",
    "            lista.pop()\n",
    "        \n",
    "        elif comando[0] == \"reverse\":\n",
    "            lista.reverse()\n",
    "\n",
    "\n",
    "\n",
    "if __name__ == '__main__':\n",
    "    N = int(input())\n",
    "    comandos(N)"
   ]
  },
  {
   "cell_type": "markdown",
   "metadata": {},
   "source": [
    "# Tuples"
   ]
  },
  {
   "cell_type": "code",
   "execution_count": null,
   "metadata": {},
   "outputs": [
    {
     "name": "stdout",
     "output_type": "stream",
     "text": [
      "-3550055125485641917\n"
     ]
    }
   ],
   "source": [
    "if __name__ == '__main__':\n",
    "    n = int(input())\n",
    "\n",
    "    integer_list = map(int, input().split())\n",
    "\n",
    "    t = tuple(integer_list)\n",
    "    \n",
    "    print(hash(t))\n",
    "        "
   ]
  },
  {
   "cell_type": "markdown",
   "metadata": {},
   "source": [
    "# Find the Runner-Up Score! "
   ]
  },
  {
   "cell_type": "code",
   "execution_count": null,
   "metadata": {},
   "outputs": [
    {
     "name": "stdout",
     "output_type": "stream",
     "text": [
      "[2, 3, 6, 6, 5]\n",
      "5\n"
     ]
    }
   ],
   "source": [
    "def find_runner_up(n, participantes):\n",
    "    \n",
    "    participantes = sorted(participantes)\n",
    "    maior_score = participantes[-1]\n",
    "    segundo_maior_score = participantes[0]\n",
    "    for nota in participantes:\n",
    "        if (segundo_maior_score <= nota < maior_score):\n",
    "            segundo_maior_score = nota\n",
    "    \n",
    "    return segundo_maior_score\n",
    "\n",
    "if __name__ == '__main__':\n",
    "    n = int(input())\n",
    "    arr = map(int, input().split())\n",
    "    participantes = list(arr)\n",
    "\n",
    "    score_runner_up = find_runner_up(n, participantes)\n",
    "    print(score_runner_up)\n"
   ]
  }
 ],
 "metadata": {
  "kernelspec": {
   "display_name": "data-science",
   "language": "python",
   "name": "python3"
  },
  "language_info": {
   "codemirror_mode": {
    "name": "ipython",
    "version": 3
   },
   "file_extension": ".py",
   "mimetype": "text/x-python",
   "name": "python",
   "nbconvert_exporter": "python",
   "pygments_lexer": "ipython3",
   "version": "3.12.5"
  }
 },
 "nbformat": 4,
 "nbformat_minor": 2
}
